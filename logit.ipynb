{
 "cells": [
  {
   "cell_type": "code",
   "execution_count": null,
   "metadata": {},
   "outputs": [],
   "source": [
    "%load_ext autoreload\n",
    "%autoreload 2"
   ]
  },
  {
   "cell_type": "markdown",
   "metadata": {},
   "source": [
    "# `Logit` on Orders - A warm-up challenge (~1h)"
   ]
  },
  {
   "cell_type": "markdown",
   "metadata": {},
   "source": [
    "## Select features"
   ]
  },
  {
   "cell_type": "markdown",
   "metadata": {},
   "source": [
    "🎯 Let's figure out the impact of `wait_time` and `delay_vs_expected` on very `good/bad reviews`\n",
    "\n",
    "👉 Using our `orders` training_set, we will run two `multivariate logistic regressions`:\n",
    "- `logit_one` to predict `dim_is_one_star` \n",
    "- `logit_five` to predict `dim_is_five_star`.\n",
    "\n",
    " "
   ]
  },
  {
   "cell_type": "code",
   "execution_count": 4,
   "metadata": {
    "execution": {
     "iopub.execute_input": "2025-09-17T11:17:20.440143Z",
     "iopub.status.busy": "2025-09-17T11:17:20.439227Z",
     "iopub.status.idle": "2025-09-17T11:17:20.450777Z",
     "shell.execute_reply": "2025-09-17T11:17:20.448161Z",
     "shell.execute_reply.started": "2025-09-17T11:17:20.440071Z"
    }
   },
   "outputs": [],
   "source": [
    "import pandas as pd\n",
    "import seaborn as sns\n",
    "import statsmodels.api as sm\n",
    "import statsmodels.formula.api as smf\n",
    "import matplotlib.pyplot as plt"
   ]
  },
  {
   "cell_type": "markdown",
   "metadata": {},
   "source": [
    "👉 Import your dataset:"
   ]
  },
  {
   "cell_type": "code",
   "execution_count": 5,
   "metadata": {
    "execution": {
     "iopub.execute_input": "2025-09-17T11:17:22.801116Z",
     "iopub.status.busy": "2025-09-17T11:17:22.800553Z",
     "iopub.status.idle": "2025-09-17T11:17:25.754589Z",
     "shell.execute_reply": "2025-09-17T11:17:25.753337Z",
     "shell.execute_reply.started": "2025-09-17T11:17:22.801077Z"
    }
   },
   "outputs": [],
   "source": [
    "from olist.order import Order\n",
    "orders = Order().get_training_data(with_distance_seller_customer=True)"
   ]
  },
  {
   "cell_type": "markdown",
   "metadata": {},
   "source": [
    "👉 Select in a list which features you want to use:\n",
    "\n",
    "⚠️ Make sure you are not creating data leakage (i.e. selecting features that are derived from the target)\n",
    "\n",
    "💡 To figure out the impact of `wait_time` and `delay_vs_expected` we need to control for the impact of other features, include in your list all features that may be relevant"
   ]
  },
  {
   "cell_type": "code",
   "execution_count": 14,
   "metadata": {
    "execution": {
     "iopub.execute_input": "2025-09-17T11:28:02.013513Z",
     "iopub.status.busy": "2025-09-17T11:28:02.013001Z",
     "iopub.status.idle": "2025-09-17T11:28:02.019978Z",
     "shell.execute_reply": "2025-09-17T11:28:02.018633Z",
     "shell.execute_reply.started": "2025-09-17T11:28:02.013471Z"
    }
   },
   "outputs": [
    {
     "name": "stdout",
     "output_type": "stream",
     "text": [
      "Available columns:\n",
      "['order_id', 'wait_time', 'expected_wait_time', 'delay_vs_expected', 'order_status', 'dim_is_five_star', 'dim_is_one_star', 'review_score', 'number_of_items', 'number_of_sellers', 'price', 'freight_value']\n"
     ]
    }
   ],
   "source": [
    "print(\"Available columns:\")\n",
    "print(orders.columns.tolist())"
   ]
  },
  {
   "cell_type": "code",
   "execution_count": 11,
   "metadata": {
    "execution": {
     "iopub.execute_input": "2025-09-17T11:18:43.674565Z",
     "iopub.status.busy": "2025-09-17T11:18:43.673938Z",
     "iopub.status.idle": "2025-09-17T11:18:43.693251Z",
     "shell.execute_reply": "2025-09-17T11:18:43.691367Z",
     "shell.execute_reply.started": "2025-09-17T11:18:43.674521Z"
    },
    "tags": [
     "challengify"
    ]
   },
   "outputs": [],
   "source": [
    "features = [\n",
    "    'wait_time', \n",
    "    'delay_vs_expected', \n",
    "    'price',\n",
    "    'freight_value',\n",
    "]\n",
    "\n",
    "X = orders[features].dropna()\n",
    "y_one_star = orders.loc[X.index, 'dim_is_one_star']\n",
    "y_five_star = orders.loc[X.index, 'dim_is_five_star']"
   ]
  },
  {
   "cell_type": "markdown",
   "metadata": {},
   "source": [
    "🕵🏻 Check the `multicollinearity` of your features, using the `VIF index`.\n",
    "\n",
    "* It shouldn't be too high (< 10 preferably) to ensure that we can trust the partial regression coefficents and their associated `p-values` \n",
    "* Do not forget to standardize your data ! \n",
    "    * A `VIF Analysis` is made by regressing a feature vs. the other features...\n",
    "    * So you want to `remove the effect of scale` so that your features have an equal importance before running any linear regression!\n",
    "    \n",
    "    \n",
    "📚 <a href=\"https://www.statisticshowto.com/variance-inflation-factor/\">Statistics How To - Variance Inflation Factor</a>\n",
    "\n",
    "📚  <a href=\"https://online.stat.psu.edu/stat462/node/180/\">PennState - Detecting Multicollinearity Using Variance Inflation Factors</a>"
   ]
  },
  {
   "cell_type": "markdown",
   "metadata": {},
   "source": [
    "⚖️ Standardizing:"
   ]
  },
  {
   "cell_type": "code",
   "execution_count": 15,
   "metadata": {
    "execution": {
     "iopub.execute_input": "2025-09-17T11:28:20.472971Z",
     "iopub.status.busy": "2025-09-17T11:28:20.472380Z",
     "iopub.status.idle": "2025-09-17T11:28:20.590241Z",
     "shell.execute_reply": "2025-09-17T11:28:20.589065Z",
     "shell.execute_reply.started": "2025-09-17T11:28:20.472928Z"
    },
    "tags": [
     "challengify"
    ]
   },
   "outputs": [],
   "source": [
    "from sklearn.preprocessing import StandardScaler\n",
    "\n",
    "scaler = StandardScaler()\n",
    "X_scaled = pd.DataFrame(\n",
    "    scaler.fit_transform(X), \n",
    "    columns=X.columns, \n",
    "    index=X.index\n",
    ")"
   ]
  },
  {
   "cell_type": "markdown",
   "metadata": {},
   "source": [
    "👉 Run your VIF Analysis to analyze the potential multicollinearities:"
   ]
  },
  {
   "cell_type": "code",
   "execution_count": 16,
   "metadata": {
    "execution": {
     "iopub.execute_input": "2025-09-17T11:28:51.077823Z",
     "iopub.status.busy": "2025-09-17T11:28:51.077160Z",
     "iopub.status.idle": "2025-09-17T11:28:51.248389Z",
     "shell.execute_reply": "2025-09-17T11:28:51.247546Z",
     "shell.execute_reply.started": "2025-09-17T11:28:51.077789Z"
    },
    "tags": [
     "challengify"
    ]
   },
   "outputs": [
    {
     "name": "stdout",
     "output_type": "stream",
     "text": [
      "             Feature       VIF\n",
      "0          wait_time  2.070003\n",
      "1  delay_vs_expected  2.012947\n",
      "2              price  1.203142\n",
      "3      freight_value  1.255015\n"
     ]
    }
   ],
   "source": [
    "from statsmodels.stats.outliers_influence import variance_inflation_factor\n",
    "\n",
    "vif_data = pd.DataFrame()\n",
    "vif_data[\"Feature\"] = X_scaled.columns\n",
    "vif_data[\"VIF\"] = [variance_inflation_factor(X_scaled.values, i) \n",
    "                   for i in range(X_scaled.shape[1])]\n",
    "print(vif_data)"
   ]
  },
  {
   "cell_type": "markdown",
   "metadata": {},
   "source": [
    "## Logistic Regressions"
   ]
  },
  {
   "cell_type": "markdown",
   "metadata": {},
   "source": [
    "👉 Fit two `Logistic Regression` models:\n",
    "- `logit_one` to predict `dim_is_one_star` \n",
    "- `logit_five` to predict `dim_is_five_star`."
   ]
  },
  {
   "cell_type": "markdown",
   "metadata": {},
   "source": [
    "`Logit 1️⃣`"
   ]
  },
  {
   "cell_type": "code",
   "execution_count": 18,
   "metadata": {
    "execution": {
     "iopub.execute_input": "2025-09-17T11:33:15.852151Z",
     "iopub.status.busy": "2025-09-17T11:33:15.851249Z",
     "iopub.status.idle": "2025-09-17T11:33:16.321978Z",
     "shell.execute_reply": "2025-09-17T11:33:16.321359Z",
     "shell.execute_reply.started": "2025-09-17T11:33:15.852080Z"
    },
    "tags": [
     "challengify"
    ]
   },
   "outputs": [
    {
     "name": "stdout",
     "output_type": "stream",
     "text": [
      "Optimization terminated successfully.\n",
      "         Current function value: 0.282085\n",
      "         Iterations 7\n",
      "                           Logit Regression Results                           \n",
      "==============================================================================\n",
      "Dep. Variable:        dim_is_one_star   No. Observations:                96353\n",
      "Model:                          Logit   Df Residuals:                    96348\n",
      "Method:                           MLE   Df Model:                            4\n",
      "Date:                Wed, 17 Sep 2025   Pseudo R-squ.:                  0.1179\n",
      "Time:                        14:33:16   Log-Likelihood:                -27180.\n",
      "converged:                       True   LL-Null:                       -30814.\n",
      "Covariance Type:            nonrobust   LLR p-value:                     0.000\n",
      "=====================================================================================\n",
      "                        coef    std err          z      P>|z|      [0.025      0.975]\n",
      "-------------------------------------------------------------------------------------\n",
      "const                -2.4066      0.012   -194.029      0.000      -2.431      -2.382\n",
      "wait_time             0.5237      0.015     35.347      0.000       0.495       0.553\n",
      "delay_vs_expected     0.3628      0.018     20.358      0.000       0.328       0.398\n",
      "price                 0.0436      0.010      4.171      0.000       0.023       0.064\n",
      "freight_value         0.1120      0.010     10.695      0.000       0.091       0.132\n",
      "=====================================================================================\n"
     ]
    }
   ],
   "source": [
    "X_with_const = sm.add_constant(X_scaled)\n",
    "\n",
    "logit_one = sm.Logit(y_one_star, X_with_const).fit()\n",
    "print(logit_one.summary())"
   ]
  },
  {
   "cell_type": "markdown",
   "metadata": {},
   "source": [
    "`Logit 5️⃣`"
   ]
  },
  {
   "cell_type": "code",
   "execution_count": 19,
   "metadata": {
    "execution": {
     "iopub.execute_input": "2025-09-17T11:34:25.374444Z",
     "iopub.status.busy": "2025-09-17T11:34:25.373872Z",
     "iopub.status.idle": "2025-09-17T11:34:25.739225Z",
     "shell.execute_reply": "2025-09-17T11:34:25.737899Z",
     "shell.execute_reply.started": "2025-09-17T11:34:25.374393Z"
    },
    "tags": [
     "challengify"
    ]
   },
   "outputs": [
    {
     "name": "stdout",
     "output_type": "stream",
     "text": [
      "Optimization terminated successfully.\n",
      "         Current function value: 0.642535\n",
      "         Iterations 7\n",
      "                           Logit Regression Results                           \n",
      "==============================================================================\n",
      "Dep. Variable:       dim_is_five_star   No. Observations:                96353\n",
      "Model:                          Logit   Df Residuals:                    96348\n",
      "Method:                           MLE   Df Model:                            4\n",
      "Date:                Wed, 17 Sep 2025   Pseudo R-squ.:                 0.04958\n",
      "Time:                        14:34:25   Log-Likelihood:                -61910.\n",
      "converged:                       True   LL-Null:                       -65140.\n",
      "Covariance Type:            nonrobust   LLR p-value:                     0.000\n",
      "=====================================================================================\n",
      "                        coef    std err          z      P>|z|      [0.025      0.975]\n",
      "-------------------------------------------------------------------------------------\n",
      "const                 0.3377      0.007     47.562      0.000       0.324       0.352\n",
      "wait_time            -0.4237      0.010    -41.488      0.000      -0.444      -0.404\n",
      "delay_vs_expected    -0.4984      0.023    -21.684      0.000      -0.543      -0.453\n",
      "price                 0.0236      0.008      3.110      0.002       0.009       0.039\n",
      "freight_value        -0.0627      0.008     -7.777      0.000      -0.078      -0.047\n",
      "=====================================================================================\n"
     ]
    }
   ],
   "source": [
    "logit_five = sm.Logit(y_five_star, X_with_const).fit()\n",
    "print(logit_five.summary())"
   ]
  },
  {
   "cell_type": "markdown",
   "metadata": {},
   "source": [
    "💡 It's time to analyse the results of these two logistic regressions:\n",
    "\n",
    "- Interpret the partial coefficients in your own words.\n",
    "- Check their statistical significances with `p-values`\n",
    "- Do you notice any differences between `logit_one` and `logit_five` in terms of coefficient importances?"
   ]
  },
  {
   "cell_type": "code",
   "execution_count": 20,
   "metadata": {
    "execution": {
     "iopub.execute_input": "2025-09-17T11:37:06.625236Z",
     "iopub.status.busy": "2025-09-17T11:37:06.624747Z",
     "iopub.status.idle": "2025-09-17T11:37:06.638008Z",
     "shell.execute_reply": "2025-09-17T11:37:06.636695Z",
     "shell.execute_reply.started": "2025-09-17T11:37:06.625191Z"
    }
   },
   "outputs": [
    {
     "name": "stdout",
     "output_type": "stream",
     "text": [
      "                   one_star_coef  five_star_coef  one_star_pvalue  \\\n",
      "const                  -2.406562        0.337681     0.000000e+00   \n",
      "wait_time               0.523720       -0.423737    1.098684e-273   \n",
      "delay_vs_expected       0.362836       -0.498358     3.931975e-92   \n",
      "price                   0.043565        0.023619     3.038135e-05   \n",
      "freight_value           0.111959       -0.062670     1.071778e-26   \n",
      "\n",
      "                   five_star_pvalue  \n",
      "const                  0.000000e+00  \n",
      "wait_time              0.000000e+00  \n",
      "delay_vs_expected     2.932241e-104  \n",
      "price                  1.872614e-03  \n",
      "freight_value          7.398488e-15  \n"
     ]
    }
   ],
   "source": [
    "# Compare coefficients\n",
    "comparison = pd.DataFrame({\n",
    "    'one_star_coef': logit_one.params,\n",
    "    'five_star_coef': logit_five.params,\n",
    "    'one_star_pvalue': logit_one.pvalues,\n",
    "    'five_star_pvalue': logit_five.pvalues\n",
    "})\n",
    "print(comparison)\n"
   ]
  },
  {
   "cell_type": "code",
   "execution_count": 21,
   "metadata": {
    "execution": {
     "iopub.execute_input": "2025-09-17T11:47:03.720102Z",
     "iopub.status.busy": "2025-09-17T11:47:03.719645Z",
     "iopub.status.idle": "2025-09-17T11:47:03.725417Z",
     "shell.execute_reply": "2025-09-17T11:47:03.724282Z",
     "shell.execute_reply.started": "2025-09-17T11:47:03.720067Z"
    }
   },
   "outputs": [],
   "source": [
    "# Among the following sentences, store the ones that are true in the list below\n",
    "\n",
    "a = \"delay_vs_expected influences five_star ratings even more than one_star ratings\"\n",
    "b = \"wait_time influences five_star ratings even more than one_star\"\n",
    "\n",
    "your_answer = [a]"
   ]
  },
  {
   "cell_type": "markdown",
   "metadata": {},
   "source": [
    "🧪 __Test your code__"
   ]
  },
  {
   "cell_type": "code",
   "execution_count": 22,
   "metadata": {
    "execution": {
     "iopub.execute_input": "2025-09-17T11:47:07.207965Z",
     "iopub.status.busy": "2025-09-17T11:47:07.207222Z",
     "iopub.status.idle": "2025-09-17T11:47:08.343848Z",
     "shell.execute_reply": "2025-09-17T11:47:08.342554Z",
     "shell.execute_reply.started": "2025-09-17T11:47:07.207901Z"
    }
   },
   "outputs": [
    {
     "name": "stdout",
     "output_type": "stream",
     "text": [
      "\n",
      "\u001b[1m============================= test session starts ==============================\u001b[0m\n",
      "platform linux -- Python 3.12.9, pytest-8.3.4, pluggy-1.5.0 -- /home/emtenan/.pyenv/versions/3.12.9/envs/lewagon/bin/python\n",
      "cachedir: .pytest_cache\n",
      "rootdir: /home/emtenan/code/Emtenan12/04-Decision-Science/04-Logistic-Regression/data-logit/tests\n",
      "plugins: typeguard-4.4.2, anyio-4.10.0\n",
      "\u001b[1mcollecting ... \u001b[0mcollected 1 item\n",
      "\n",
      "test_logit.py::TestLogit::test_question \u001b[32mPASSED\u001b[0m\u001b[32m                           [100%]\u001b[0m\n",
      "\n",
      "\u001b[32m============================== \u001b[32m\u001b[1m1 passed\u001b[0m\u001b[32m in 0.02s\u001b[0m\u001b[32m ===============================\u001b[0m\n",
      "\n",
      "\n",
      "💯 You can commit your code:\n",
      "\n",
      "\u001b[1;32mgit\u001b[39m add tests/logit.pickle\n",
      "\n",
      "\u001b[32mgit\u001b[39m commit -m \u001b[33m'Completed logit step'\u001b[39m\n",
      "\n",
      "\u001b[32mgit\u001b[39m push origin master\n",
      "\n"
     ]
    }
   ],
   "source": [
    "from nbresult import ChallengeResult\n",
    "\n",
    "result = ChallengeResult('logit',\n",
    "    answers = your_answer\n",
    ")\n",
    "result.write()\n",
    "print(result.check())"
   ]
  },
  {
   "cell_type": "markdown",
   "metadata": {},
   "source": [
    "<details>\n",
    "    <summary>- <i>Explanations and advanced concepts </i> -</summary>\n",
    "\n",
    "\n",
    "> _All other thing being equal, the `delay factor` tends to increase the chances of getting stripped of the 5-star even more so than it affect the chances of 1-star reviews. Probably because 1-stars are really targeting bad products themselves, not bad deliveries_\n",
    "    \n",
    "❗️ However, to be totally rigorous, we have to be **more careful when comparing coefficients from two different models**, because **they might not be based on similar populations**!\n",
    "    We have 2 sub-populations here: (people who gave 1-stars; and people who gave 5-stars) and they may exhibit intrinsically different behavior patterns. It may well be that \"happy-people\" (who tends to give 5-stars easily) are less sensitive as \"grumpy-people\" (who shoot 1-stars like Lucky-Luke), when it comes to \"delay\", or \"price\"...\n",
    "\n",
    "</details>\n"
   ]
  },
  {
   "cell_type": "markdown",
   "metadata": {},
   "source": [
    "🏁 Congratulations! \n",
    "\n",
    "💾 Don't forget to commit and push your `logit.ipynb` notebook !"
   ]
  }
 ],
 "metadata": {
  "kernelspec": {
   "display_name": "Python 3 (ipykernel)",
   "language": "python",
   "name": "python3"
  },
  "language_info": {
   "codemirror_mode": {
    "name": "ipython",
    "version": 3
   },
   "file_extension": ".py",
   "mimetype": "text/x-python",
   "name": "python",
   "nbconvert_exporter": "python",
   "pygments_lexer": "ipython3",
   "version": "3.12.9"
  }
 },
 "nbformat": 4,
 "nbformat_minor": 4
}
